{
  "nbformat": 4,
  "nbformat_minor": 0,
  "metadata": {
    "colab": {
      "name": "Calculadora simples.ipynb",
      "provenance": [],
      "authorship_tag": "ABX9TyMz4kdujYNtABhOXZqt64di",
      "include_colab_link": true
    },
    "kernelspec": {
      "name": "python3",
      "display_name": "Python 3"
    },
    "language_info": {
      "name": "python"
    }
  },
  "cells": [
    {
      "cell_type": "markdown",
      "metadata": {
        "id": "view-in-github",
        "colab_type": "text"
      },
      "source": [
        "<a href=\"https://colab.research.google.com/github/Otavio-Mendonca/Calculadora-simples-com-condi-o-de-exce-o-/blob/main/Calculadora_simples.ipynb\" target=\"_parent\"><img src=\"https://colab.research.google.com/assets/colab-badge.svg\" alt=\"Open In Colab\"/></a>"
      ]
    },
    {
      "cell_type": "code",
      "execution_count": null,
      "metadata": {
        "colab": {
          "base_uri": "https://localhost:8080/"
        },
        "id": "Vl4kKTKd4Scx",
        "outputId": "632d517a-7289-4a84-e04c-5dbed19205e1"
      },
      "outputs": [
        {
          "output_type": "stream",
          "name": "stdout",
          "text": [
            "digite o 1º numero da operação: 12345678\n",
            "digite o sinal da operação: *\n",
            "digite o 2º numero da operação: 9876543212345\n",
            "1.21932622252697e+20\n"
          ]
        }
      ],
      "source": [
        "# Calculadora simples (com condição de exceção para evitar loop infinito na divisão por zero)\n",
        "\n",
        "n1 = float(input(\"digite o 1º numero da operação: \"))\n",
        "sinal = input(\"digite o sinal da operação: \")\n",
        "n2 = float(input(\"digite o 2º numero da operação: \"))\n",
        "\n",
        "if sinal == '+':\n",
        "  op = n1 + n2\n",
        "\n",
        "elif sinal == '-':\n",
        "  op = n1 - n2\n",
        "\n",
        "elif sinal == '*':\n",
        "  op = n1 * n2\n",
        "\n",
        "elif sinal == '/':\n",
        "  try:\n",
        "    op = n1 / n2\n",
        "  except:\n",
        "    op = \"Não é permitido divisão por Zero\"\n",
        "\n",
        "else:\n",
        "  print(\"operação não identificada\")\n",
        "\n",
        "print(op)\n",
        "\n",
        "\n"
      ]
    }
  ]
}